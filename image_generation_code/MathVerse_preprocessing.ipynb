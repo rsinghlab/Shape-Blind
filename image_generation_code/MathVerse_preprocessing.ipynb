{
 "cells": [
  {
   "cell_type": "code",
   "execution_count": null,
   "id": "b5aa5455-b6b9-4a8b-9429-2d1778a29ff9",
   "metadata": {},
   "outputs": [],
   "source": [
    "import pandas as pd\n",
    "\n",
    "df = pd.read_parquet(\"hf://datasets/AI4Math/MathVerse/testmini.parquet\")\n",
    "\n",
    "#OPTIONAL: if you want to take a look at what \"text only\" looks like for mathverse, this is the loading code:\n",
    "df2 = pd.read_parquet(\"hf://datasets/AI4Math/MathVerse/testmini_text_only.parquet\")\n",
    "df= pd.concat([df, df2])\n",
    "df[\"answer\"] = df[\"answer\"].str.replace(\"(\", \"\").str.replace(\")\", \"\")\n"
   ]
  },
  {
   "cell_type": "code",
   "execution_count": null,
   "id": "96c210d8-d264-431d-b50f-61ce6ae3ed46",
   "metadata": {},
   "outputs": [],
   "source": [
    "df"
   ]
  },
  {
   "cell_type": "code",
   "execution_count": null,
   "id": "9289d8ec-0ef4-4635-bc84-4a218c3769ed",
   "metadata": {},
   "outputs": [],
   "source": [
    "## NOTE: we chose to save the mathverse images locally so it integrates seamlessly with evaluate_MLLMs.py. This is optional. \n",
    "\n",
    "import ast\n",
    "from PIL import Image\n",
    "import io\n",
    "\n",
    "\n",
    "def process_image_column(row):\n",
    "    if not isinstance(row, str) or not row.startswith(\"{\") or not row.endswith(\"}\"):\n",
    "        return None  # Ignore invalid rows\n",
    "\n",
    "    image_data = eval(row) \n",
    "    image_bytes = image_data.get('bytes', None)\n",
    "    \n",
    "    if image_bytes:\n",
    "        print(\"here!\")  # Debugging\n",
    "        return Image.open(io.BytesIO(image_bytes))\n",
    "    \n",
    "    return None\n",
    "\n",
    "df[\"processed_image\"] = df[\"image\"].astype(str).apply(process_image_column)"
   ]
  },
  {
   "cell_type": "code",
   "execution_count": null,
   "id": "efccf685-d4ec-48d1-a4c7-4775ba52ce12",
   "metadata": {},
   "outputs": [],
   "source": [
    "import os\n",
    "from PIL import Image\n",
    "import numpy as np\n",
    "\n",
    "# Create the directory if it doesn't exist\n",
    "output_directory = \"images/mathverse_images\"\n",
    "os.makedirs(output_directory, exist_ok=True)\n",
    "\n",
    "# Function to create a white 224x224 image\n",
    "def create_white_image(output_directory):\n",
    "    white_image_path = os.path.join(output_directory, \"white_image.png\")\n",
    "    if not os.path.exists(white_image_path):\n",
    "        # Create and save the white image only once\n",
    "        white_image = Image.fromarray(np.full((224, 224, 3), 255, dtype=np.uint8))\n",
    "        white_image.save(white_image_path)\n",
    "    return white_image_path\n",
    "\n",
    "# Function to resize images if they are larger than 1024x1024\n",
    "def resize_image(image, max_size=(1024, 1024)):\n",
    "    if image.size[0] > max_size[0] or image.size[1] > max_size[1]:\n",
    "        image.thumbnail(max_size, Image.LANCZOS)  # Use Image.LANCZOS instead of Image.ANTIALIAS\n",
    "    return image\n",
    "\n",
    "# Create the white image and get its path\n",
    "white_image_path = create_white_image(output_directory)\n",
    "\n",
    "# Initialize a list to store paths\n",
    "image_paths = []\n",
    "\n",
    "# Save images and populate paths\n",
    "for idx, image in enumerate(df[\"processed_image\"]):\n",
    "    if image is None:\n",
    "        # Use the path of the dedicated white image for NaN values\n",
    "        image_paths.append(white_image_path)\n",
    "    else:\n",
    "        # Resize the image if necessary\n",
    "        image = resize_image(image)\n",
    "        # Save the image with a unique name\n",
    "        image_path = os.path.join(output_directory, f\"image_{idx + 1}.png\")\n",
    "        #image.save(image_path)\n",
    "        image_paths.append(image_path)\n",
    "\n",
    "# Add the paths to a new column in the DataFrame\n",
    "df[\"path\"] = image_paths\n",
    "\n",
    "print(f\"Images saved to {output_directory} and paths added to DataFrame.\")\n"
   ]
  },
  {
   "cell_type": "code",
   "execution_count": null,
   "id": "ee5fb85a-6885-42f0-88b4-41efffaa605d",
   "metadata": {},
   "outputs": [],
   "source": [
    "df[['sample_index', 'problem_index', 'problem_version', 'question',\n",
    "       'answer', 'question_type', 'metadata', 'query_wo', 'query_cot',\n",
    "       'question_for_eval', 'path']].to_csv(\"mathverse.csv\",index=False)"
   ]
  },
  {
   "cell_type": "code",
   "execution_count": null,
   "id": "373861a6-bf06-4d53-b0e2-613f25fdf4d7",
   "metadata": {},
   "outputs": [],
   "source": []
  },
  {
   "cell_type": "code",
   "execution_count": null,
   "id": "ab0c9e37-6dbf-4030-b61d-39bdc981857b",
   "metadata": {},
   "outputs": [],
   "source": [
    "################## Pre-processing for VC-CoT experiements ##################"
   ]
  },
  {
   "cell_type": "code",
   "execution_count": null,
   "id": "b016ad9d-2d73-4a94-b8a0-680477e23d19",
   "metadata": {},
   "outputs": [],
   "source": [
    "import pandas as pd\n",
    "\n",
    "df = pd.read_csv(\"mathverse.csv\")\n",
    "# We use multiple-choice and vision domninant split, you can change this as you see fit!\n",
    "df = df[df[\"problem_version\"] == \"Vision Dominant\"]\n",
    "df = df[df[\"question_type\"] == \"multi-choice\"]\n",
    "df = df[df[\"answer\"].isin([\"A\", \"B\", \"C\", \"D\", \"E\", \"F\"])]"
   ]
  },
  {
   "cell_type": "code",
   "execution_count": null,
   "id": "f08f629d-ee20-43fe-b72d-24d99d02f333",
   "metadata": {},
   "outputs": [],
   "source": [
    "df1 = df.copy()\n",
    "df2 = df.copy()"
   ]
  },
  {
   "cell_type": "code",
   "execution_count": null,
   "id": "7cf3df26-a36f-4795-b003-5b60a4d40993",
   "metadata": {},
   "outputs": [],
   "source": [
    "#mathverse CoT\n",
    "df[\"prompt\"] = df[\"query_cot\"] \n",
    "df[\"type\"] = \"mathverse_cot\""
   ]
  },
  {
   "cell_type": "code",
   "execution_count": null,
   "id": "4aca2598-bba3-4954-8ec9-ce3fea6efc0b",
   "metadata": {},
   "outputs": [],
   "source": [
    "#direct prompting\n",
    "df1[\"prompt\"] = df1[\"query_wo\"] \n",
    "df1[\"type\"] = \"direct\""
   ]
  },
  {
   "cell_type": "code",
   "execution_count": null,
   "id": "c58a9076-8a7d-4ec1-b31f-477d687ee343",
   "metadata": {},
   "outputs": [],
   "source": [
    "#Example of VC-CoT. You can teak this based on the needs of different models. \n",
    "\n",
    "df2[\"prompt\"] = \"Examine the mathematical diagram carefully, noting all present shapes, numbers, and letters. Establish their spatial and numerical relationships, and apply logical reasoning to determine the correct answer. Conclude your response by providing the correct option letter, e.g., A, B, C, D, at the end. \" + df2[\"question\"]\n",
    "df2[\"type\"] = \"VC-CoT\"\n",
    "\n",
    "#Other examples that work well: \n",
    "#\"First, identify and list all the provided visual cues. Next, infer any missing details using geometric principles. Answer the question and provide the correct option letter, e.g., A, B, C, D, at the end. \"\n",
    "#\"Carefully inspect the visual representation, identifying its mathematical components including numbers, figures, and key relationships. Follow a structured approach to analyze these elements, derive necessary conclusions, and provide the final answer by stating the correct option letter, e.g., A, B, C, D, at the end.\" "
   ]
  },
  {
   "cell_type": "code",
   "execution_count": null,
   "id": "7d9df1fc-2849-4dd5-9807-2e90b56d0687",
   "metadata": {},
   "outputs": [],
   "source": [
    "df_final = pd.concat([df, df1, df2])"
   ]
  },
  {
   "cell_type": "code",
   "execution_count": null,
   "id": "14b6e20e-3891-4113-a689-d795d405bd43",
   "metadata": {},
   "outputs": [],
   "source": [
    "df_final.to_csv(\"mathverse_revised.csv\", index=False)"
   ]
  },
  {
   "cell_type": "code",
   "execution_count": null,
   "id": "167b7dbf-f5d3-4160-9776-e6eab70ab317",
   "metadata": {},
   "outputs": [],
   "source": []
  }
 ],
 "metadata": {
  "kernelspec": {
   "display_name": "Python 3 (ipykernel)",
   "language": "python",
   "name": "python3"
  },
  "language_info": {
   "codemirror_mode": {
    "name": "ipython",
    "version": 3
   },
   "file_extension": ".py",
   "mimetype": "text/x-python",
   "name": "python",
   "nbconvert_exporter": "python",
   "pygments_lexer": "ipython3",
   "version": "3.9.16"
  }
 },
 "nbformat": 4,
 "nbformat_minor": 5
}
